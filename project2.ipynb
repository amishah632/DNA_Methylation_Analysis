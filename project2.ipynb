{
 "cells": [
  {
   "cell_type": "code",
   "execution_count": 1,
   "metadata": {},
   "outputs": [],
   "source": [
    "import re\n",
    "from pybedtools import BedTool\n",
    "\n",
    "class CpgIslands:\n",
    "    def __init__(self, cpg_line):\n",
    "        self.cpg_list = cpg_line.rstrip().split(\"\\t\")\n",
    "        self.start, self.end = [int(each) for each in self.cpg_list[2:4]]\n",
    "        self.chr = self.cpg_list[1]\n",
    "        self.out_list = self.cpgIsland()\n",
    "    \n",
    "    def cpgIsland(self):\n",
    "        cpg = [self.chr, str(self.start), str(self.end)]\n",
    "        out_list = [cpg]\n",
    "        return out_list\n",
    "\n",
    "class Shores:\n",
    "    def __init__(self, cpg_line):\n",
    "        self.cpg_list = cpg_line.rstrip().split(\"\\t\")\n",
    "        self.start, self.end = [int(each) for each in self.cpg_list[1:3]]\n",
    "        self.chr = self.cpg_list[0]\n",
    "        self.out_list = self.shore()\n",
    "    \n",
    "    def shore(self):\n",
    "        shores = [self.chr, str(self.start - 2000), str(self.end + 2000)]\n",
    "        out_list = [shores]\n",
    "        return out_list\n",
    "\n",
    "class Shelves:\n",
    "    def __init__(self, shore_line):\n",
    "        self.shore_list = shore_line.rstrip().split(\"\\t\")\n",
    "        self.start, self.end = [int(each) for each in self.cpg_list[1:3]]\n",
    "        self.chr = self.shore_list[0]\n",
    "        self.out_list = self.shelf()\n",
    "    \n",
    "    def shelf(self):\n",
    "        shelves = [self.chr, str(self.start - 2000), str(self.end + 2000)]\n",
    "        out_list = [shelves]\n",
    "        return out_list\n",
    "\n",
    "class Seas:\n",
    "    pass\n",
    "\n",
    "def cpg_island_bed():\n",
    "    in_link = open(\"cpgIslandExt.txt\", \"r\")\n",
    "    cpg_island = open(\"cpg_island.bed\", \"w\")\n",
    "    cpgi = \"\"\n",
    "    for cpg_line in in_link:\n",
    "        CpgObj = CpgIslands(cpg_line)\n",
    "        cpg = CpgObj.out_list[0]\n",
    "        m = re.search(r'\\d+', cpg[0])\n",
    "        if m is not None:\n",
    "            if cpg[0] == \"chr\" + m.group():\n",
    "                cpgi = \"\\t\".join(cpg) + \"\\n\"\n",
    "                cpg_island.write(cpgi)\n",
    "    in_link.close()\n",
    "    cpg_island.close()\n",
    "    \n",
    "def shores_bed():    \n",
    "    cpg_island = BedTool(\"cpg_island.bed\")\n",
    "    cpg = cpg_island.merge()\n",
    "    cpgi = open(\"cpg_island.bed\", \"w\")\n",
    "    cpgi.write(str(cpg))\n",
    "    cpgi.close()\n",
    "    \n",
    "    in_link = open(\"cpg_island.bed\", \"r\")\n",
    "    shores = open(\"shores.bed\", \"w\")\n",
    "    shore = \"\"\n",
    "    \n",
    "    for cpg_line in in_link:\n",
    "        ShoreObj = Shores(cpg_line)\n",
    "        shr = ShoreObj.out_list[0]\n",
    "        shore = \"\\t\".join(shr) + \"\\n\"\n",
    "        shores.write(shore)\n",
    "    in_link.close()\n",
    "    shores.close()\n",
    "\n",
    "def shelves_bed():\n",
    "    cpg_island = BedTool(\"cpg_island.bed\")\n",
    "    shores = BedTool(\"shores.bed\")\n",
    "    shore = shores.merge()\n",
    "    shores = shore.subtract(cpg_island)\n",
    "    shr = open(\"shores.bed\", \"w\")\n",
    "    shr.write(str(shores))\n",
    "    shr.close()\n",
    "    \n",
    "    in_link = open(\"shores.bed\", \"r\")\n",
    "    shelves = open(\"shelves.bed\", \"w\")\n",
    "    stemp = open(\"shelf.bed\", \"w\")\n",
    "    shelf = \"\"\n",
    "    \n",
    "    for shore_line in in_link:\n",
    "        ShelvesObj = Shores(shore_line)\n",
    "        shelve = ShelvesObj.out_list[0]\n",
    "        shelf = \"\\t\".join(shelve) + \"\\n\"\n",
    "        shelves.write(shelf)\n",
    "        stemp.write(shelf)\n",
    "    in_link.close()\n",
    "    shelves.close()\n",
    "    stemp.close()\n",
    "    \n",
    "def seas_bed():\n",
    "    cpg_island = BedTool(\"cpg_island.bed\")\n",
    "    shores = BedTool(\"shores.bed\")\n",
    "    shelves = BedTool(\"shelves.bed\")\n",
    "    shef = BedTool(\"shelf.bed\")\n",
    "    shef = shef.merge()\n",
    "    shelves = shelves.merge()\n",
    "    shelves = shelves.subtract(shores)\n",
    "    shelves = shelves.subtract(cpg_island)\n",
    "    sh=open(\"shelf.bed\",\"w\")\n",
    "    shelf = open(\"shelves.bed\", \"w\")\n",
    "    shelf.write(str(shelves))\n",
    "    sh.write(str(shef))\n",
    "    sh.close()\n",
    "    shelf.close()\n",
    "    \n",
    "    size = BedTool(\"size.bed\")\n",
    "    shlf = BedTool(\"shelf.bed\")\n",
    "    seas = size.subtract(shlf)\n",
    "    sea = open(\"seas.bed\", \"w\")\n",
    "    sea.write(str(seas))\n",
    "    sea.close()\n",
    "    "
   ]
  },
  {
   "cell_type": "code",
   "execution_count": 2,
   "metadata": {},
   "outputs": [],
   "source": [
    "cpg_island_bed()\n",
    "shores_bed()\n",
    "shelves_bed()\n",
    "seas_bed()"
   ]
  },
  {
   "cell_type": "code",
   "execution_count": 3,
   "metadata": {},
   "outputs": [],
   "source": [
    "class MethylationMiddle:\n",
    "    def __init__(self, m_line):\n",
    "        self.m_list = m_line.rstrip().split(\"\\t\")\n",
    "        self.start, self.end = [int(each) for each in self.m_list[1:3]]\n",
    "        self.chr = self.m_list[0]\n",
    "        self.out_list = self.find_middle()\n",
    "    \n",
    "    def find_middle(self):\n",
    "        dna_methyl_middle = [self.chr, str(self.start), str((self.start + self.end) // 2)]\n",
    "        return dna_methyl_middle\n",
    "\n",
    "def methyl_middle_bed():\n",
    "    dna_methylation = open(\"dnamethyl.bed\", \"r\")\n",
    "    methyl = open(\"methylMiddle.bed\", \"w\")\n",
    "    for m_line in dna_methylation:\n",
    "        mObj = MethylationMiddle(m_line)\n",
    "        m = \"\\t\".join(mObj.out_list) + \"\\n\"\n",
    "        methyl.write(m)\n",
    "    methyl.close()"
   ]
  },
  {
   "cell_type": "code",
   "execution_count": 4,
   "metadata": {},
   "outputs": [],
   "source": [
    "methyl_middle_bed()"
   ]
  },
  {
   "cell_type": "code",
   "execution_count": 9,
   "metadata": {},
   "outputs": [],
   "source": [
    "import matplotlib.pyplot as plt\n",
    "import numpy as np\n",
    "\n",
    "def plot_bar(methylation_cpg_island, methylation_shores, methylation_shelves, methylation_seas, lbl):\n",
    "    objects = ('cpg islands', 'shores', 'shelves', 'seas')\n",
    "    y_pos = np.arange(len(objects))\n",
    "    performance = [methylation_cpg_island, methylation_shores, methylation_shelves, methylation_seas]\n",
    "    plt.bar(y_pos,performance)\n",
    "    plt.xticks(y_pos, objects)\n",
    "    plt.ylabel(lbl)\n",
    "    plt.title('DNA methylations in CPG Islands, Shores, Shelves, Seas')\n",
    "    plt.show()\n",
    "\n",
    "def count_methylation():\n",
    "    dna_methylation = BedTool(\"methylMiddle.bed\")\n",
    "    cpgi = BedTool(\"cpg_island.bed\")\n",
    "    shore = BedTool(\"shores.bed\")\n",
    "    shelf = BedTool(\"shelves.bed\")\n",
    "    sea = BedTool(\"seas.bed\")\n",
    "    methylation_cpg_island = cpgi.intersect(dna_methylation).count()\n",
    "    methylation_shores = shore.intersect(dna_methylation).count()\n",
    "    methylation_shelves = shelf.intersect(dna_methylation).count()\n",
    "    methylation_seas = sea.intersect(dna_methylation).count()\n",
    "    total = len(dna_methylation)\n",
    "    percentage_methyl_cpgi = (methylation_cpg_island * 100) // total\n",
    "    percentage_methyl_shores = (methylation_shores * 100) // total\n",
    "    percentage_methyl_shelves = (methylation_shelves * 100) // total\n",
    "    percentage_methyl_seas = (methylation_seas * 100) // total\n",
    "    \n",
    "    plot_bar(percentage_methyl_cpgi, percentage_methyl_shores, percentage_methyl_shelves, percentage_methyl_seas, '% methylations')\n",
    "    plot_bar(methylation_cpg_island, methylation_shores, methylation_shelves, methylation_seas, '# methylations')\n",
    "    \n",
    "    "
   ]
  },
  {
   "cell_type": "code",
   "execution_count": 10,
   "metadata": {
    "scrolled": true
   },
   "outputs": [
    {
     "data": {
      "image/png": "[encoded data removed]",
      "text/plain": [
       "<Figure size 432x288 with 1 Axes>"
      ]
     },
     "metadata": {
      "needs_background": "light"
     },
     "output_type": "display_data"
    },
    {
     "data": {
      "image/png": "[encoded data removed]",
      "text/plain": [
       "<Figure size 432x288 with 1 Axes>"
      ]
     },
     "metadata": {
      "needs_background": "light"
     },
     "output_type": "display_data"
    }
   ],
   "source": [
    "count_methylation()"
   ]
  }
 ],
 "metadata": {
  "kernelspec": {
   "display_name": "Python 3",
   "language": "python",
   "name": "python3"
  },
  "language_info": {
   "codemirror_mode": {
    "name": "ipython",
    "version": 3
   },
   "file_extension": ".py",
   "mimetype": "text/x-python",
   "name": "python",
   "nbconvert_exporter": "python",
   "pygments_lexer": "ipython3",
   "version": "3.7.5"
  }
 },
 "nbformat": 4,
 "nbformat_minor": 2
}
