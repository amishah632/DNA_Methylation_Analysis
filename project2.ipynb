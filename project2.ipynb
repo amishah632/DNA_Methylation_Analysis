{
 "cells": [
  {
   "cell_type": "code",
   "execution_count": 1,
   "metadata": {},
   "outputs": [],
   "source": [
    "import re\n",
    "class ExpandCPG:\n",
    "    def __init__(self, cpg_line):\n",
    "        self.cpg_list = cpg_line.rstrip().split(\"\\t\")\n",
    "        self.start, self.end = [int(each) for each in self.cpg_list[2:4]]\n",
    "        self.chr = self.cpg_list[1]\n",
    "        self.out_list = self.expand_cpg()\n",
    "    \n",
    "    def expand_cpg(self):\n",
    "        cpg = [self.chr, str(self.start), str(self.end)]\n",
    "        shores = [self.chr, str(self.start - 2000), str(self.end + 2000)]\n",
    "        shelves = [self.chr, str(self.start - 4000), str(self.end + 4000)]\n",
    "        seas = [self.chr, str(self.start - 4000), str(self.start + 4000)]\n",
    "        out_list = [cpg, shores, shelves, seas]\n",
    "        return out_list\n",
    "\n",
    "def analyse_cpg():\n",
    "    in_link = open(\"cpgIslandExt.txt\", \"r\")\n",
    "    out_cpg = open(\"out_cpg.bed\", \"w\")\n",
    "    out_shores = open(\"out_shores.bed\", \"w\")\n",
    "    out_shelves = open(\"out_shelves.bed\", \"w\")\n",
    "    out_seas = open(\"out_seas.bed\", \"w\")\n",
    "    \n",
    "    cp, shore, shelf, sea = \"\", \"\", \"\", \"\"\n",
    "    \n",
    "    for cpg_line in in_link:\n",
    "        CpgObj = ExpandCPG(cpg_line)\n",
    "        cpg = CpgObj.out_list[0]\n",
    "        shores = CpgObj.out_list[1]\n",
    "        shelves = CpgObj.out_list[2]\n",
    "        seas = CpgObj.out_list[3]\n",
    "        m = re.search(r'\\d+', cpg[0])\n",
    "        if m is not None:\n",
    "            if cpg[0] == \"chr\" + m.group():\n",
    "                cp = \"\\t\".join(cpg) + \"\\n\"\n",
    "                out_cpg.write(cp)\n",
    "                shore = \"\\t\".join(shores) + \"\\n\"\n",
    "                out_shores.write(shore)\n",
    "                shelf = \"\\t\".join(shelves) + \"\\n\"\n",
    "                out_shelves.write(shelf)\n",
    "                sea = \"\\t\".join(seas) + \"\\n\"\n",
    "                out_seas.write(sea)\n",
    "    out_cpg.close()\n",
    "    out_shores.close()\n",
    "    out_shelves.close()\n",
    "    out_seas.close()\n",
    "    in_link.close()"
   ]
  },
  {
   "cell_type": "code",
   "execution_count": 2,
   "metadata": {},
   "outputs": [],
   "source": [
    "analyse_cpg()"
   ]
  },
  {
   "cell_type": "code",
   "execution_count": 3,
   "metadata": {},
   "outputs": [],
   "source": [
    "class MethylationMiddleRange:\n",
    "    def __init__(self, m_line):\n",
    "        self.m_list = m_line.rstrip().split(\"\\t\")\n",
    "        self.start, self.end = [int(each) for each in self.m_list[1:3]]\n",
    "        self.chr = self.m_list[0]\n",
    "        self.out_list = self.find_middle()\n",
    "    \n",
    "    def find_middle(self):\n",
    "        dna_methyl_middle = [self.chr, str(self.start), str((self.start + self.end) // 2)]\n",
    "        return dna_methyl_middle\n",
    "\n",
    "def methyl_middle_range():\n",
    "    dna_methylation = open(\"dnamethyl.bed\", \"r\")\n",
    "    methyl = open(\"methyl.bed\", \"w\")\n",
    "    \n",
    "    for m_line in dna_methylation:\n",
    "        mObj = MethylationMiddleRange(m_line)\n",
    "        m = \"\\t\".join(mObj.out_list) + \"\\n\"\n",
    "        methyl.write(m)\n",
    "    methyl.close()"
   ]
  },
  {
   "cell_type": "code",
   "execution_count": 4,
   "metadata": {},
   "outputs": [],
   "source": [
    "methyl_middle_range()"
   ]
  },
  {
   "cell_type": "code",
   "execution_count": 5,
   "metadata": {},
   "outputs": [],
   "source": [
    "from pybedtools import BedTool\n",
    "dna_methylation = BedTool('methyl.bed')\n",
    "cpg_island = BedTool(\"out_cpg.bed\")\n",
    "shores = BedTool(\"out_shores.bed\")\n",
    "shelves = BedTool(\"out_shelves.bed\")\n",
    "seas = BedTool(\"out_seas.bed\")\n",
    "\n",
    "cpg = cpg_island.merge()\n",
    "shore = shores.merge()\n",
    "shelve = shelves.merge()\n",
    "sea = seas.merge()"
   ]
  },
  {
   "cell_type": "code",
   "execution_count": 6,
   "metadata": {},
   "outputs": [
    {
     "name": "stdout",
     "output_type": "stream",
     "text": [
      "146574 255209 300778 291804\n"
     ]
    }
   ],
   "source": [
    "methylation_cpg_island = cpg.intersect(dna_methylation).count()\n",
    "methylation_shores = shore.intersect(dna_methylation).count()\n",
    "methylation_shelves = shelve.intersect(dna_methylation).count()\n",
    "methylation_seas = sea.intersect(dna_methylation).count()\n",
    "print(methylation_cpg_island, methylation_shores, methylation_shelves, methylation_seas)"
   ]
  },
  {
   "cell_type": "code",
   "execution_count": 8,
   "metadata": {},
   "outputs": [
    {
     "data": {
      "image/png": "[encoded data removed]",
      "text/plain": [
       "<Figure size 432x288 with 1 Axes>"
      ]
     },
     "metadata": {
      "needs_background": "light"
     },
     "output_type": "display_data"
    }
   ],
   "source": [
    "import matplotlib.pyplot as plt\n",
    "import numpy as np\n",
    "\n",
    "objects = ('cpg islands', 'shores', 'shelves', 'seas')\n",
    "y_pos = np.arange(len(objects))\n",
    "performance = [methylation_cpg_island, methylation_shores, methylation_shelves, methylation_seas]\n",
    "plt.bar(y_pos,performance)\n",
    "plt.xticks(y_pos, objects)\n",
    "plt.ylabel('# methylations')\n",
    "plt.title('DNA methylations in CPG Islands, Shores, Shelves, Seas')\n",
    "plt.show()"
   ]
  }
 ],
 "metadata": {
  "kernelspec": {
   "display_name": "Python 3",
   "language": "python",
   "name": "python3"
  },
  "language_info": {
   "codemirror_mode": {
    "name": "ipython",
    "version": 3
   },
   "file_extension": ".py",
   "mimetype": "text/x-python",
   "name": "python",
   "nbconvert_exporter": "python",
   "pygments_lexer": "ipython3",
   "version": "3.7.5"
  }
 },
 "nbformat": 4,
 "nbformat_minor": 2
}
